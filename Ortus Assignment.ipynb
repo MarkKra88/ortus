{
 "cells": [
  {
   "cell_type": "code",
   "execution_count": 0,
   "metadata": {
    "application/vnd.databricks.v1+cell": {
     "cellMetadata": {
      "byteLimit": 2048000,
      "rowLimit": 10000
     },
     "inputWidgets": {},
     "nuid": "7a6dff08-51b7-4ca7-84bd-64d8990a40fd",
     "showTitle": false,
     "title": ""
    }
   },
   "outputs": [],
   "source": [
    "from pyspark.sql.functions import col,asc, desc, avg, count\n",
    "#from pyspark.sql.functions import col,asc, unix_timestamp, lag, when, floor, desc, avg, count\n",
    "#from pyspark.sql.window import Window\n",
    "#from pyspark.sql.functions import sum as spark_sum\n",
    "#from pyspark.sql.types import IntegerType\n",
    "import numpy as np\n",
    "#import pandas as pd\n",
    "import seaborn as sns\n",
    "import matplotlib.pyplot as plt"
   ]
  },
  {
   "cell_type": "code",
   "execution_count": 0,
   "metadata": {
    "application/vnd.databricks.v1+cell": {
     "cellMetadata": {
      "byteLimit": 2048000,
      "rowLimit": 10000
     },
     "inputWidgets": {},
     "nuid": "48e3dad3-1407-4bce-9d15-edf4abf9a6c9",
     "showTitle": false,
     "title": ""
    }
   },
   "outputs": [],
   "source": [
    "# read all files\n",
    "df1 = spark.table(\"file1_1_csv\")\n",
    "df2 = spark.table(\"file2_csv\")\n",
    "df3 = spark.table(\"file3_1_csv\")\n",
    "df4 = spark.table(\"file4_csv\")\n",
    "df5 = spark.table(\"file5_2_csv\")"
   ]
  },
  {
   "cell_type": "code",
   "execution_count": 0,
   "metadata": {
    "application/vnd.databricks.v1+cell": {
     "cellMetadata": {
      "byteLimit": 2048000,
      "rowLimit": 10000
     },
     "inputWidgets": {},
     "nuid": "f2dcdedf-9576-4c4c-a014-886203c72c89",
     "showTitle": false,
     "title": ""
    }
   },
   "outputs": [],
   "source": [
    "#join all files and sort by index\n",
    "joined_df = df1.join(df3, on=\"index\" , how=\"left\")\n",
    "joined_df = joined_df.join(df4, on=\"index\" , how=\"left\")\n",
    "joined_df = joined_df.join(df5, on=\"index\" , how=\"left\")\n",
    "joined_df = joined_df.join(df2, on=\"index\" , how=\"left\")\n",
    "sorted_df = joined_df.orderBy(asc(\"index\"))"
   ]
  },
  {
   "cell_type": "code",
   "execution_count": 0,
   "metadata": {
    "application/vnd.databricks.v1+cell": {
     "cellMetadata": {
      "byteLimit": 2048000,
      "rowLimit": 10000
     },
     "inputWidgets": {},
     "nuid": "afbe1390-f06d-4b26-b8bc-2ded95d8b32b",
     "showTitle": false,
     "title": ""
    }
   },
   "outputs": [],
   "source": [
    "#replace null with 0\n",
    "dfNullReplaced = sorted_df.fillna(0)"
   ]
  },
  {
   "cell_type": "code",
   "execution_count": 0,
   "metadata": {
    "application/vnd.databricks.v1+cell": {
     "cellMetadata": {
      "byteLimit": 2048000,
      "rowLimit": 10000
     },
     "inputWidgets": {},
     "nuid": "45149379-159b-4381-a209-585bc151bcaf",
     "showTitle": false,
     "title": ""
    }
   },
   "outputs": [
    {
     "output_type": "display_data",
     "data": {
      "text/html": [
       "<style scoped>\n",
       "  .table-result-container {\n",
       "    max-height: 300px;\n",
       "    overflow: auto;\n",
       "  }\n",
       "  table, th, td {\n",
       "    border: 1px solid black;\n",
       "    border-collapse: collapse;\n",
       "  }\n",
       "  th, td {\n",
       "    padding: 5px;\n",
       "  }\n",
       "  th {\n",
       "    text-align: left;\n",
       "  }\n",
       "</style><div class='table-result-container'><table class='table-result'><thead style='background-color: white'><tr><th>dtc</th><th>count</th></tr></thead><tbody><tr><td>0.0</td><td>6208799</td></tr><tr><td>255.0</td><td>1005896</td></tr></tbody></table></div>"
      ]
     },
     "metadata": {
      "application/vnd.databricks.v1+output": {
       "addedWidgets": {},
       "aggData": [],
       "aggError": "",
       "aggOverflow": false,
       "aggSchema": [],
       "aggSeriesLimitReached": false,
       "aggType": "",
       "arguments": {},
       "columnCustomDisplayInfos": {},
       "data": [
        [
         0.0,
         6208799
        ],
        [
         255.0,
         1005896
        ]
       ],
       "datasetInfos": [],
       "dbfsResultPath": null,
       "isJsonSchema": true,
       "metadata": {},
       "overflow": false,
       "plotOptions": {
        "customPlotOptions": {},
        "displayType": "table",
        "pivotAggregation": null,
        "pivotColumns": null,
        "xColumns": null,
        "yColumns": null
       },
       "removedWidgets": [],
       "schema": [
        {
         "metadata": "{}",
         "name": "dtc",
         "type": "\"float\""
        },
        {
         "metadata": "{}",
         "name": "count",
         "type": "\"long\""
        }
       ],
       "type": "table"
      }
     },
     "output_type": "display_data"
    }
   ],
   "source": [
    "#Analyzing Error Codes (dtc)\n",
    "dtc_counts = dfNullReplaced.groupBy(\"dtc\").count().orderBy(\"count\", ascending=False)\n",
    "display(dtc_counts)"
   ]
  },
  {
   "cell_type": "code",
   "execution_count": 0,
   "metadata": {
    "application/vnd.databricks.v1+cell": {
     "cellMetadata": {
      "byteLimit": 2048000,
      "rowLimit": 10000
     },
     "inputWidgets": {},
     "nuid": "9dd5b9cb-6638-48c2-9687-77b50a69ffc7",
     "showTitle": false,
     "title": ""
    }
   },
   "outputs": [
    {
     "output_type": "display_data",
     "data": {
      "text/html": [
       "<style scoped>\n",
       "  .table-result-container {\n",
       "    max-height: 300px;\n",
       "    overflow: auto;\n",
       "  }\n",
       "  table, th, td {\n",
       "    border: 1px solid black;\n",
       "    border-collapse: collapse;\n",
       "  }\n",
       "  th, td {\n",
       "    padding: 5px;\n",
       "  }\n",
       "  th {\n",
       "    text-align: left;\n",
       "  }\n",
       "</style><div class='table-result-container'><table class='table-result'><thead style='background-color: white'><tr><th>gps_speed</th><th>count</th></tr></thead><tbody><tr><td>333.2</td><td>574</td></tr><tr><td>323.61</td><td>1</td></tr><tr><td>276.58</td><td>1</td></tr><tr><td>268.26</td><td>1</td></tr><tr><td>231.31</td><td>1</td></tr><tr><td>215.52</td><td>1</td></tr><tr><td>184.98</td><td>1</td></tr><tr><td>181.18</td><td>1</td></tr><tr><td>175.64</td><td>1</td></tr><tr><td>171.77</td><td>1</td></tr><tr><td>165.56</td><td>1</td></tr><tr><td>161.95</td><td>1</td></tr><tr><td>160.38</td><td>1</td></tr><tr><td>159.42</td><td>1</td></tr><tr><td>158.01</td><td>1</td></tr><tr><td>154.69</td><td>1</td></tr><tr><td>153.68</td><td>1</td></tr><tr><td>152.92</td><td>1</td></tr><tr><td>152.81</td><td>1</td></tr><tr><td>152.74</td><td>1</td></tr><tr><td>148.97</td><td>1</td></tr><tr><td>148.92</td><td>1</td></tr><tr><td>146.63</td><td>1</td></tr><tr><td>144.47</td><td>1</td></tr><tr><td>143.03</td><td>1</td></tr><tr><td>142.52</td><td>1</td></tr><tr><td>142.28</td><td>1</td></tr><tr><td>140.25</td><td>1</td></tr><tr><td>140.21</td><td>1</td></tr><tr><td>140.13</td><td>1</td></tr></tbody></table></div>"
      ]
     },
     "metadata": {
      "application/vnd.databricks.v1+output": {
       "addedWidgets": {},
       "aggData": [],
       "aggError": "",
       "aggOverflow": false,
       "aggSchema": [],
       "aggSeriesLimitReached": false,
       "aggType": "",
       "arguments": {},
       "columnCustomDisplayInfos": {},
       "data": [
        [
         333.2,
         574
        ],
        [
         323.61,
         1
        ],
        [
         276.58,
         1
        ],
        [
         268.26,
         1
        ],
        [
         231.31,
         1
        ],
        [
         215.52,
         1
        ],
        [
         184.98,
         1
        ],
        [
         181.18,
         1
        ],
        [
         175.64,
         1
        ],
        [
         171.77,
         1
        ],
        [
         165.56,
         1
        ],
        [
         161.95,
         1
        ],
        [
         160.38,
         1
        ],
        [
         159.42,
         1
        ],
        [
         158.01,
         1
        ],
        [
         154.69,
         1
        ],
        [
         153.68,
         1
        ],
        [
         152.92,
         1
        ],
        [
         152.81,
         1
        ],
        [
         152.74,
         1
        ],
        [
         148.97,
         1
        ],
        [
         148.92,
         1
        ],
        [
         146.63,
         1
        ],
        [
         144.47,
         1
        ],
        [
         143.03,
         1
        ],
        [
         142.52,
         1
        ],
        [
         142.28,
         1
        ],
        [
         140.25,
         1
        ],
        [
         140.21,
         1
        ],
        [
         140.13,
         1
        ]
       ],
       "datasetInfos": [],
       "dbfsResultPath": null,
       "isJsonSchema": true,
       "metadata": {},
       "overflow": false,
       "plotOptions": {
        "customPlotOptions": {},
        "displayType": "table",
        "pivotAggregation": null,
        "pivotColumns": null,
        "xColumns": null,
        "yColumns": null
       },
       "removedWidgets": [],
       "schema": [
        {
         "metadata": "{}",
         "name": "gps_speed",
         "type": "\"float\""
        },
        {
         "metadata": "{}",
         "name": "count",
         "type": "\"long\""
        }
       ],
       "type": "table"
      }
     },
     "output_type": "display_data"
    }
   ],
   "source": [
    "# Group the filtered DataFrame by \"tripID\" and \"gps_speed\", then count the occurrences\n",
    "max_speed_grouped_df = dfNullReplaced.groupBy(\"gps_speed\").agg(count(\"*\").alias(\"count\"))\n",
    "\n",
    "max_speed_sorted_df = max_speed_grouped_df.orderBy(desc(\"gps_speed\"))\n",
    "max_speed_sorted_df = max_speed_sorted_df.limit(30)\n",
    "\n",
    "# Display the grouped DataFrame\n",
    "display(max_speed_sorted_df)\n"
   ]
  },
  {
   "cell_type": "code",
   "execution_count": 0,
   "metadata": {
    "application/vnd.databricks.v1+cell": {
     "cellMetadata": {
      "byteLimit": 2048000,
      "rowLimit": 10000
     },
     "inputWidgets": {},
     "nuid": "cee83109-5108-4cc2-b214-9510bd81b32c",
     "showTitle": false,
     "title": ""
    }
   },
   "outputs": [
    {
     "output_type": "display_data",
     "data": {
      "image/png": "[encoded data removed]"
     },
     "metadata": {
      "application/vnd.databricks.v1+output": {
       "addedWidgets": {},
       "arguments": {},
       "data": "data:image/png;base64,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\n",
       "datasetInfos": [],
       "metadata": {},
       "removedWidgets": [],
       "type": "image"
      }
     },
     "output_type": "display_data"
    }
   ],
   "source": [
    "#Correlation Analysis\n",
    "# Select relevant columns for correlation analysis\n",
    "correlation_df = dfNullReplaced.select(\"gps_speed\", \"rpm\", \"eLoad\")\n",
    "\n",
    "# Calculate correlation matrix\n",
    "correlation_matrix = correlation_df.toPandas().corr()\n",
    "\n",
    "# Plot heatmap\n",
    "plt.figure(figsize=(8, 6))\n",
    "sns.heatmap(correlation_matrix, annot=True, cmap='coolwarm', fmt=\".2f\")\n",
    "plt.title(\"Correlation Matrix\")\n",
    "plt.show()"
   ]
  },
  {
   "cell_type": "code",
   "execution_count": 0,
   "metadata": {
    "application/vnd.databricks.v1+cell": {
     "cellMetadata": {
      "byteLimit": 2048000,
      "rowLimit": 10000
     },
     "inputWidgets": {},
     "nuid": "981d4011-00e7-41f1-8d6a-4504de627ca7",
     "showTitle": false,
     "title": ""
    }
   },
   "outputs": [
    {
     "output_type": "display_data",
     "data": {
      "image/png": "[encoded data removed]"
     },
     "metadata": {
      "application/vnd.databricks.v1+output": {
       "addedWidgets": {},
       "arguments": {},
       "data": "data:image/png;base64,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\n",
       "datasetInfos": [],
       "metadata": {},
       "removedWidgets": [],
       "type": "image"
      }
     },
     "output_type": "display_data"
    }
   ],
   "source": [
    "#Feature Engineering\n",
    "feature_engineering_df = dfNullReplaced.groupBy(\"tripID\").agg(avg(\"speed\").alias(\"avg_speed\"), avg(\"battery\").alias(\"avg_battery_voltage\"))\n",
    "\n",
    "# Convert to Pandas DataFrame for visualization\n",
    "feature_engineering_pd_df = feature_engineering_df.toPandas()\n",
    "\n",
    "# Plot average speed per trip\n",
    "plt.figure(figsize=(10, 6))\n",
    "plt.bar(feature_engineering_pd_df[\"tripID\"], feature_engineering_pd_df[\"avg_speed\"])\n",
    "plt.xlabel(\"Trip ID\")\n",
    "plt.ylabel(\"Average Speed\")\n",
    "plt.title(\"Average Speed per Trip\")\n",
    "plt.show()"
   ]
  },
  {
   "cell_type": "code",
   "execution_count": 0,
   "metadata": {
    "application/vnd.databricks.v1+cell": {
     "cellMetadata": {
      "byteLimit": 2048000,
      "rowLimit": 10000
     },
     "inputWidgets": {},
     "nuid": "17451ad1-cd83-40bb-88ac-c90409df4e1c",
     "showTitle": false,
     "title": ""
    }
   },
   "outputs": [
    {
     "output_type": "display_data",
     "data": {
      "image/png": "[encoded data removed]"
     },
     "metadata": {
      "application/vnd.databricks.v1+output": {
       "addedWidgets": {},
       "arguments": {},
       "data": "data:image/png;base64,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\n",
       "datasetInfos": [],
       "metadata": {},
       "removedWidgets": [],
       "type": "image"
      }
     },
     "output_type": "display_data"
    }
   ],
   "source": [
    "# Plot average battery voltage per trip\n",
    "plt.figure(figsize=(10, 6))\n",
    "plt.bar(feature_engineering_pd_df[\"tripID\"], feature_engineering_pd_df[\"avg_battery_voltage\"])\n",
    "plt.xlabel(\"Trip ID\")\n",
    "plt.ylabel(\"Average Battery Voltage\")\n",
    "plt.title(\"Average Battery Voltage per Trip\")\n",
    "plt.show()"
   ]
  }
 ],
 "metadata": {
  "application/vnd.databricks.v1+notebook": {
   "dashboards": [],
   "language": "python",
   "notebookMetadata": {
    "pythonIndentUnit": 4
   },
   "notebookName": "Ortus Assignment",
   "widgets": {}
  }
 },
 "nbformat": 4,
 "nbformat_minor": 0
}
